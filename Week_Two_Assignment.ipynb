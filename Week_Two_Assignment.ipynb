{
  "cells": [
    {
      "cell_type": "markdown",
      "metadata": {
        "id": "FnNje2toXe39"
      },
      "source": [
        "Get th dataset from\n",
        "https://www.kaggle.com/datasets/sootersaalu/amazon-top-50-bestselling-books-2009-2019"
      ]
    },
    {
      "cell_type": "code",
      "execution_count": 39,
      "metadata": {
        "id": "iEOqXOT8W75k"
      },
      "outputs": [],
      "source": [
        "import numpy as np\n",
        "import pandas as pd\n",
        "#import matplotlib.pyplot as plt"
      ]
    },
    {
      "cell_type": "markdown",
      "metadata": {
        "id": "BYlpVNMmjABK"
      },
      "source": [
        "### Convert file into pandas dataframe"
      ]
    },
    {
      "cell_type": "code",
      "execution_count": 40,
      "metadata": {
        "id": "z2KFeOdeX-Qa"
      },
      "outputs": [
        {
          "data": {
            "text/html": [
              "<div>\n",
              "<style scoped>\n",
              "    .dataframe tbody tr th:only-of-type {\n",
              "        vertical-align: middle;\n",
              "    }\n",
              "\n",
              "    .dataframe tbody tr th {\n",
              "        vertical-align: top;\n",
              "    }\n",
              "\n",
              "    .dataframe thead th {\n",
              "        text-align: right;\n",
              "    }\n",
              "</style>\n",
              "<table border=\"1\" class=\"dataframe\">\n",
              "  <thead>\n",
              "    <tr style=\"text-align: right;\">\n",
              "      <th></th>\n",
              "      <th>Name</th>\n",
              "      <th>Author</th>\n",
              "      <th>User Rating</th>\n",
              "      <th>Reviews</th>\n",
              "      <th>Price</th>\n",
              "      <th>Year</th>\n",
              "      <th>Genre</th>\n",
              "    </tr>\n",
              "  </thead>\n",
              "  <tbody>\n",
              "    <tr>\n",
              "      <th>0</th>\n",
              "      <td>10-Day Green Smoothie Cleanse</td>\n",
              "      <td>JJ Smith</td>\n",
              "      <td>4.7</td>\n",
              "      <td>17350</td>\n",
              "      <td>8</td>\n",
              "      <td>2016</td>\n",
              "      <td>Non Fiction</td>\n",
              "    </tr>\n",
              "    <tr>\n",
              "      <th>1</th>\n",
              "      <td>11/22/63: A Novel</td>\n",
              "      <td>Stephen King</td>\n",
              "      <td>4.6</td>\n",
              "      <td>2052</td>\n",
              "      <td>22</td>\n",
              "      <td>2011</td>\n",
              "      <td>Fiction</td>\n",
              "    </tr>\n",
              "    <tr>\n",
              "      <th>2</th>\n",
              "      <td>12 Rules for Life: An Antidote to Chaos</td>\n",
              "      <td>Jordan B. Peterson</td>\n",
              "      <td>4.7</td>\n",
              "      <td>18979</td>\n",
              "      <td>15</td>\n",
              "      <td>2018</td>\n",
              "      <td>Non Fiction</td>\n",
              "    </tr>\n",
              "    <tr>\n",
              "      <th>3</th>\n",
              "      <td>1984 (Signet Classics)</td>\n",
              "      <td>George Orwell</td>\n",
              "      <td>4.7</td>\n",
              "      <td>21424</td>\n",
              "      <td>6</td>\n",
              "      <td>2017</td>\n",
              "      <td>Fiction</td>\n",
              "    </tr>\n",
              "    <tr>\n",
              "      <th>4</th>\n",
              "      <td>5,000 Awesome Facts (About Everything!) (Natio...</td>\n",
              "      <td>National Geographic Kids</td>\n",
              "      <td>4.8</td>\n",
              "      <td>7665</td>\n",
              "      <td>12</td>\n",
              "      <td>2019</td>\n",
              "      <td>Non Fiction</td>\n",
              "    </tr>\n",
              "    <tr>\n",
              "      <th>...</th>\n",
              "      <td>...</td>\n",
              "      <td>...</td>\n",
              "      <td>...</td>\n",
              "      <td>...</td>\n",
              "      <td>...</td>\n",
              "      <td>...</td>\n",
              "      <td>...</td>\n",
              "    </tr>\n",
              "    <tr>\n",
              "      <th>545</th>\n",
              "      <td>Wrecking Ball (Diary of a Wimpy Kid Book 14)</td>\n",
              "      <td>Jeff Kinney</td>\n",
              "      <td>4.9</td>\n",
              "      <td>9413</td>\n",
              "      <td>8</td>\n",
              "      <td>2019</td>\n",
              "      <td>Fiction</td>\n",
              "    </tr>\n",
              "    <tr>\n",
              "      <th>546</th>\n",
              "      <td>You Are a Badass: How to Stop Doubting Your Gr...</td>\n",
              "      <td>Jen Sincero</td>\n",
              "      <td>4.7</td>\n",
              "      <td>14331</td>\n",
              "      <td>8</td>\n",
              "      <td>2016</td>\n",
              "      <td>Non Fiction</td>\n",
              "    </tr>\n",
              "    <tr>\n",
              "      <th>547</th>\n",
              "      <td>You Are a Badass: How to Stop Doubting Your Gr...</td>\n",
              "      <td>Jen Sincero</td>\n",
              "      <td>4.7</td>\n",
              "      <td>14331</td>\n",
              "      <td>8</td>\n",
              "      <td>2017</td>\n",
              "      <td>Non Fiction</td>\n",
              "    </tr>\n",
              "    <tr>\n",
              "      <th>548</th>\n",
              "      <td>You Are a Badass: How to Stop Doubting Your Gr...</td>\n",
              "      <td>Jen Sincero</td>\n",
              "      <td>4.7</td>\n",
              "      <td>14331</td>\n",
              "      <td>8</td>\n",
              "      <td>2018</td>\n",
              "      <td>Non Fiction</td>\n",
              "    </tr>\n",
              "    <tr>\n",
              "      <th>549</th>\n",
              "      <td>You Are a Badass: How to Stop Doubting Your Gr...</td>\n",
              "      <td>Jen Sincero</td>\n",
              "      <td>4.7</td>\n",
              "      <td>14331</td>\n",
              "      <td>8</td>\n",
              "      <td>2019</td>\n",
              "      <td>Non Fiction</td>\n",
              "    </tr>\n",
              "  </tbody>\n",
              "</table>\n",
              "<p>550 rows × 7 columns</p>\n",
              "</div>"
            ],
            "text/plain": [
              "                                                  Name  \\\n",
              "0                        10-Day Green Smoothie Cleanse   \n",
              "1                                    11/22/63: A Novel   \n",
              "2              12 Rules for Life: An Antidote to Chaos   \n",
              "3                               1984 (Signet Classics)   \n",
              "4    5,000 Awesome Facts (About Everything!) (Natio...   \n",
              "..                                                 ...   \n",
              "545       Wrecking Ball (Diary of a Wimpy Kid Book 14)   \n",
              "546  You Are a Badass: How to Stop Doubting Your Gr...   \n",
              "547  You Are a Badass: How to Stop Doubting Your Gr...   \n",
              "548  You Are a Badass: How to Stop Doubting Your Gr...   \n",
              "549  You Are a Badass: How to Stop Doubting Your Gr...   \n",
              "\n",
              "                       Author  User Rating  Reviews  Price  Year        Genre  \n",
              "0                    JJ Smith          4.7    17350      8  2016  Non Fiction  \n",
              "1                Stephen King          4.6     2052     22  2011      Fiction  \n",
              "2          Jordan B. Peterson          4.7    18979     15  2018  Non Fiction  \n",
              "3               George Orwell          4.7    21424      6  2017      Fiction  \n",
              "4    National Geographic Kids          4.8     7665     12  2019  Non Fiction  \n",
              "..                        ...          ...      ...    ...   ...          ...  \n",
              "545               Jeff Kinney          4.9     9413      8  2019      Fiction  \n",
              "546               Jen Sincero          4.7    14331      8  2016  Non Fiction  \n",
              "547               Jen Sincero          4.7    14331      8  2017  Non Fiction  \n",
              "548               Jen Sincero          4.7    14331      8  2018  Non Fiction  \n",
              "549               Jen Sincero          4.7    14331      8  2019  Non Fiction  \n",
              "\n",
              "[550 rows x 7 columns]"
            ]
          },
          "execution_count": 40,
          "metadata": {},
          "output_type": "execute_result"
        }
      ],
      "source": [
        "df = pd.read_csv(\"bestsellers with categories.csv\")\n",
        "df"
      ]
    },
    {
      "cell_type": "markdown",
      "metadata": {
        "id": "xa46khSFjGA_"
      },
      "source": [
        "### Print *first* 5 rows of dataframe"
      ]
    },
    {
      "cell_type": "code",
      "execution_count": 41,
      "metadata": {
        "id": "dXtPp1yhbR1k"
      },
      "outputs": [
        {
          "name": "stdout",
          "output_type": "stream",
          "text": [
            "                                                Name  \\\n",
            "0                      10-Day Green Smoothie Cleanse   \n",
            "1                                  11/22/63: A Novel   \n",
            "2            12 Rules for Life: An Antidote to Chaos   \n",
            "3                             1984 (Signet Classics)   \n",
            "4  5,000 Awesome Facts (About Everything!) (Natio...   \n",
            "\n",
            "                     Author  User Rating  Reviews  Price  Year        Genre  \n",
            "0                  JJ Smith          4.7    17350      8  2016  Non Fiction  \n",
            "1              Stephen King          4.6     2052     22  2011      Fiction  \n",
            "2        Jordan B. Peterson          4.7    18979     15  2018  Non Fiction  \n",
            "3             George Orwell          4.7    21424      6  2017      Fiction  \n",
            "4  National Geographic Kids          4.8     7665     12  2019  Non Fiction  \n"
          ]
        }
      ],
      "source": [
        "result = df.head(5)\n",
        "print(result)"
      ]
    },
    {
      "cell_type": "markdown",
      "metadata": {
        "id": "XW-n43O8j1IM"
      },
      "source": [
        " ### Print the number of rows.<br>Print the number of columns <br> Print the datatype of each variable."
      ]
    },
    {
      "cell_type": "code",
      "execution_count": 42,
      "metadata": {
        "id": "EAZwuQlIi8P3"
      },
      "outputs": [
        {
          "name": "stdout",
          "output_type": "stream",
          "text": [
            "550\n",
            "7\n",
            "Name            object\n",
            "Author          object\n",
            "User Rating    float64\n",
            "Reviews          int64\n",
            "Price            int64\n",
            "Year             int64\n",
            "Genre           object\n",
            "dtype: object\n"
          ]
        }
      ],
      "source": [
        "print(df.shape[0])\n",
        "print(df.shape[1])\n",
        "print(df.dtypes)"
      ]
    },
    {
      "cell_type": "markdown",
      "metadata": {
        "id": "8el8X8XfkKCa"
      },
      "source": [
        "### For each variable, print the number of unique values.<br>For each variable, display the number of missing entries."
      ]
    },
    {
      "cell_type": "code",
      "execution_count": 43,
      "metadata": {
        "id": "EU6UJlwW-s2H"
      },
      "outputs": [
        {
          "name": "stdout",
          "output_type": "stream",
          "text": [
            "Publication Manual of the American Psychological Association, 6th Edition       10\n",
            "StrengthsFinder 2.0                                                              9\n",
            "Oh, the Places You'll Go!                                                        8\n",
            "The Very Hungry Caterpillar                                                      7\n",
            "The 7 Habits of Highly Effective People: Powerful Lessons in Personal Change     7\n",
            "                                                                                ..\n",
            "Humans of New York : Stories                                                     1\n",
            "Howard Stern Comes Again                                                         1\n",
            "Homebody: A Guide to Creating Spaces You Never Want to Leave                     1\n",
            "Have a Little Faith: A True Story                                                1\n",
            "Night (Night)                                                                    1\n",
            "Name: Name, Length: 351, dtype: int64\n",
            "Jeff Kinney                           12\n",
            "Gary Chapman                          11\n",
            "Rick Riordan                          11\n",
            "Suzanne Collins                       11\n",
            "American Psychological Association    10\n",
            "                                      ..\n",
            "Keith Richards                         1\n",
            "Chris Cleave                           1\n",
            "Alice Schertle                         1\n",
            "Celeste Ng                             1\n",
            "Adam Gasiewski                         1\n",
            "Name: Author, Length: 248, dtype: int64\n",
            "4.8    127\n",
            "4.7    108\n",
            "4.6    105\n",
            "4.5     60\n",
            "4.9     52\n",
            "4.4     38\n",
            "4.3     25\n",
            "4.0     14\n",
            "4.2      8\n",
            "4.1      6\n",
            "3.9      3\n",
            "3.8      2\n",
            "3.6      1\n",
            "3.3      1\n",
            "Name: User Rating, dtype: int64\n",
            "8580     10\n",
            "5069      9\n",
            "21834     8\n",
            "19546     7\n",
            "19576     6\n",
            "         ..\n",
            "5272      1\n",
            "3776      1\n",
            "1930      1\n",
            "13471     1\n",
            "5680      1\n",
            "Name: Reviews, Length: 346, dtype: int64\n",
            "8      52\n",
            "6      38\n",
            "9      38\n",
            "5      36\n",
            "11     35\n",
            "4      32\n",
            "14     30\n",
            "13     29\n",
            "10     28\n",
            "12     27\n",
            "7      23\n",
            "15     21\n",
            "16     20\n",
            "17     19\n",
            "20     17\n",
            "18     14\n",
            "0      12\n",
            "46     10\n",
            "21      9\n",
            "22      6\n",
            "28      6\n",
            "24      5\n",
            "23      5\n",
            "2       5\n",
            "40      5\n",
            "30      5\n",
            "19      4\n",
            "27      4\n",
            "32      2\n",
            "25      2\n",
            "105     2\n",
            "52      1\n",
            "54      1\n",
            "3       1\n",
            "39      1\n",
            "53      1\n",
            "1       1\n",
            "36      1\n",
            "82      1\n",
            "42      1\n",
            "Name: Price, dtype: int64\n",
            "2016    50\n",
            "2011    50\n",
            "2018    50\n",
            "2017    50\n",
            "2019    50\n",
            "2014    50\n",
            "2010    50\n",
            "2009    50\n",
            "2015    50\n",
            "2013    50\n",
            "2012    50\n",
            "Name: Year, dtype: int64\n",
            "Non Fiction    310\n",
            "Fiction        240\n",
            "Name: Genre, dtype: int64\n",
            "Name           0\n",
            "Author         0\n",
            "User Rating    0\n",
            "Reviews        0\n",
            "Price          0\n",
            "Year           0\n",
            "Genre          0\n",
            "dtype: int64\n"
          ]
        }
      ],
      "source": [
        "for e in df.columns:\n",
        "    print(df[e].value_counts())  \n",
        "print(df.isnull().sum())"
      ]
    },
    {
      "cell_type": "markdown",
      "metadata": {
        "id": "fVrHLAqk21Uf"
      },
      "source": [
        "### Print statistical info of each numeric variable.(i.e. mean,meadian,..)"
      ]
    },
    {
      "cell_type": "code",
      "execution_count": 44,
      "metadata": {
        "id": "lu0d8VOW-ufr"
      },
      "outputs": [
        {
          "name": "stdout",
          "output_type": "stream",
          "text": [
            "       User Rating       Reviews       Price         Year\n",
            "count   550.000000    550.000000  550.000000   550.000000\n",
            "mean      4.618364  11953.281818   13.100000  2014.000000\n",
            "std       0.226980  11731.132017   10.842262     3.165156\n",
            "min       3.300000     37.000000    0.000000  2009.000000\n",
            "25%       4.500000   4058.000000    7.000000  2011.000000\n",
            "50%       4.700000   8580.000000   11.000000  2014.000000\n",
            "75%       4.800000  17253.250000   16.000000  2017.000000\n",
            "max       4.900000  87841.000000  105.000000  2019.000000\n"
          ]
        }
      ],
      "source": [
        "print(df.describe())"
      ]
    },
    {
      "cell_type": "markdown",
      "metadata": {
        "id": "acagyNwH7bRs"
      },
      "source": [
        "### Find 20%,40%,60%,80% of variables"
      ]
    },
    {
      "cell_type": "code",
      "execution_count": 45,
      "metadata": {
        "id": "j_GgbSa4-xV2"
      },
      "outputs": [
        {
          "name": "stdout",
          "output_type": "stream",
          "text": [
            "User Rating       4.5\n",
            "Reviews        3477.0\n",
            "Price             6.0\n",
            "Year           2011.0\n",
            "Name: 0.2, dtype: float64 \n",
            "\n",
            "User Rating       4.6\n",
            "Reviews        6364.6\n",
            "Price             9.0\n",
            "Year           2013.0\n",
            "Name: 0.4, dtype: float64 \n",
            "\n",
            "User Rating        4.7\n",
            "Reviews        10082.4\n",
            "Price             13.0\n",
            "Year            2015.0\n",
            "Name: 0.6, dtype: float64 \n",
            "\n",
            "User Rating        4.8\n",
            "Reviews        19637.4\n",
            "Price             17.0\n",
            "Year            2017.0\n",
            "Name: 0.8, dtype: float64 \n",
            "\n"
          ]
        }
      ],
      "source": [
        "for i in range(20,100,20):\n",
        "    print(df.quantile(i/100), '\\n',end = '\\n')"
      ]
    },
    {
      "cell_type": "markdown",
      "metadata": {
        "id": "01kDNMsaHRVW"
      },
      "source": [
        "### Print rows having 'To Kill a Mockingbird'"
      ]
    },
    {
      "cell_type": "code",
      "execution_count": 46,
      "metadata": {
        "id": "OggzU_H9-za2"
      },
      "outputs": [
        {
          "name": "stdout",
          "output_type": "stream",
          "text": [
            "                      Name      Author  User Rating  Reviews  Price  Year  \\\n",
            "505  To Kill a Mockingbird  Harper Lee          4.8    26234      0  2013   \n",
            "506  To Kill a Mockingbird  Harper Lee          4.8    26234      0  2014   \n",
            "507  To Kill a Mockingbird  Harper Lee          4.8    26234      0  2015   \n",
            "508  To Kill a Mockingbird  Harper Lee          4.8    26234      0  2016   \n",
            "509  To Kill a Mockingbird  Harper Lee          4.8    26234      7  2019   \n",
            "\n",
            "       Genre  \n",
            "505  Fiction  \n",
            "506  Fiction  \n",
            "507  Fiction  \n",
            "508  Fiction  \n",
            "509  Fiction  \n"
          ]
        }
      ],
      "source": [
        "dffilter = df[df['Name'].str.contains('To Kill a Mockingbird')]\n",
        "print(dffilter)"
      ]
    },
    {
      "cell_type": "markdown",
      "metadata": {
        "id": "IA9k0tBnEC1I"
      },
      "source": [
        "### Remove Duplicates by name (Remove duplicates of the same name)"
      ]
    },
    {
      "cell_type": "code",
      "execution_count": 47,
      "metadata": {
        "id": "pMikskaO-1RI"
      },
      "outputs": [
        {
          "data": {
            "text/html": [
              "<div>\n",
              "<style scoped>\n",
              "    .dataframe tbody tr th:only-of-type {\n",
              "        vertical-align: middle;\n",
              "    }\n",
              "\n",
              "    .dataframe tbody tr th {\n",
              "        vertical-align: top;\n",
              "    }\n",
              "\n",
              "    .dataframe thead th {\n",
              "        text-align: right;\n",
              "    }\n",
              "</style>\n",
              "<table border=\"1\" class=\"dataframe\">\n",
              "  <thead>\n",
              "    <tr style=\"text-align: right;\">\n",
              "      <th></th>\n",
              "      <th>Name</th>\n",
              "      <th>Author</th>\n",
              "      <th>User Rating</th>\n",
              "      <th>Reviews</th>\n",
              "      <th>Price</th>\n",
              "      <th>Year</th>\n",
              "      <th>Genre</th>\n",
              "    </tr>\n",
              "  </thead>\n",
              "  <tbody>\n",
              "    <tr>\n",
              "      <th>0</th>\n",
              "      <td>10-Day Green Smoothie Cleanse</td>\n",
              "      <td>JJ Smith</td>\n",
              "      <td>4.7</td>\n",
              "      <td>17350</td>\n",
              "      <td>8</td>\n",
              "      <td>2016</td>\n",
              "      <td>Non Fiction</td>\n",
              "    </tr>\n",
              "    <tr>\n",
              "      <th>1</th>\n",
              "      <td>11/22/63: A Novel</td>\n",
              "      <td>Stephen King</td>\n",
              "      <td>4.6</td>\n",
              "      <td>2052</td>\n",
              "      <td>22</td>\n",
              "      <td>2011</td>\n",
              "      <td>Fiction</td>\n",
              "    </tr>\n",
              "    <tr>\n",
              "      <th>2</th>\n",
              "      <td>12 Rules for Life: An Antidote to Chaos</td>\n",
              "      <td>Jordan B. Peterson</td>\n",
              "      <td>4.7</td>\n",
              "      <td>18979</td>\n",
              "      <td>15</td>\n",
              "      <td>2018</td>\n",
              "      <td>Non Fiction</td>\n",
              "    </tr>\n",
              "    <tr>\n",
              "      <th>3</th>\n",
              "      <td>1984 (Signet Classics)</td>\n",
              "      <td>George Orwell</td>\n",
              "      <td>4.7</td>\n",
              "      <td>21424</td>\n",
              "      <td>6</td>\n",
              "      <td>2017</td>\n",
              "      <td>Fiction</td>\n",
              "    </tr>\n",
              "    <tr>\n",
              "      <th>4</th>\n",
              "      <td>5,000 Awesome Facts (About Everything!) (Natio...</td>\n",
              "      <td>National Geographic Kids</td>\n",
              "      <td>4.8</td>\n",
              "      <td>7665</td>\n",
              "      <td>12</td>\n",
              "      <td>2019</td>\n",
              "      <td>Non Fiction</td>\n",
              "    </tr>\n",
              "    <tr>\n",
              "      <th>...</th>\n",
              "      <td>...</td>\n",
              "      <td>...</td>\n",
              "      <td>...</td>\n",
              "      <td>...</td>\n",
              "      <td>...</td>\n",
              "      <td>...</td>\n",
              "      <td>...</td>\n",
              "    </tr>\n",
              "    <tr>\n",
              "      <th>538</th>\n",
              "      <td>Winter of the World: Book Two of the Century T...</td>\n",
              "      <td>Ken Follett</td>\n",
              "      <td>4.5</td>\n",
              "      <td>10760</td>\n",
              "      <td>15</td>\n",
              "      <td>2012</td>\n",
              "      <td>Fiction</td>\n",
              "    </tr>\n",
              "    <tr>\n",
              "      <th>539</th>\n",
              "      <td>Women Food and God: An Unexpected Path to Almo...</td>\n",
              "      <td>Geneen Roth</td>\n",
              "      <td>4.2</td>\n",
              "      <td>1302</td>\n",
              "      <td>11</td>\n",
              "      <td>2010</td>\n",
              "      <td>Non Fiction</td>\n",
              "    </tr>\n",
              "    <tr>\n",
              "      <th>540</th>\n",
              "      <td>Wonder</td>\n",
              "      <td>R. J. Palacio</td>\n",
              "      <td>4.8</td>\n",
              "      <td>21625</td>\n",
              "      <td>9</td>\n",
              "      <td>2013</td>\n",
              "      <td>Fiction</td>\n",
              "    </tr>\n",
              "    <tr>\n",
              "      <th>545</th>\n",
              "      <td>Wrecking Ball (Diary of a Wimpy Kid Book 14)</td>\n",
              "      <td>Jeff Kinney</td>\n",
              "      <td>4.9</td>\n",
              "      <td>9413</td>\n",
              "      <td>8</td>\n",
              "      <td>2019</td>\n",
              "      <td>Fiction</td>\n",
              "    </tr>\n",
              "    <tr>\n",
              "      <th>546</th>\n",
              "      <td>You Are a Badass: How to Stop Doubting Your Gr...</td>\n",
              "      <td>Jen Sincero</td>\n",
              "      <td>4.7</td>\n",
              "      <td>14331</td>\n",
              "      <td>8</td>\n",
              "      <td>2016</td>\n",
              "      <td>Non Fiction</td>\n",
              "    </tr>\n",
              "  </tbody>\n",
              "</table>\n",
              "<p>351 rows × 7 columns</p>\n",
              "</div>"
            ],
            "text/plain": [
              "                                                  Name  \\\n",
              "0                        10-Day Green Smoothie Cleanse   \n",
              "1                                    11/22/63: A Novel   \n",
              "2              12 Rules for Life: An Antidote to Chaos   \n",
              "3                               1984 (Signet Classics)   \n",
              "4    5,000 Awesome Facts (About Everything!) (Natio...   \n",
              "..                                                 ...   \n",
              "538  Winter of the World: Book Two of the Century T...   \n",
              "539  Women Food and God: An Unexpected Path to Almo...   \n",
              "540                                             Wonder   \n",
              "545       Wrecking Ball (Diary of a Wimpy Kid Book 14)   \n",
              "546  You Are a Badass: How to Stop Doubting Your Gr...   \n",
              "\n",
              "                       Author  User Rating  Reviews  Price  Year        Genre  \n",
              "0                    JJ Smith          4.7    17350      8  2016  Non Fiction  \n",
              "1                Stephen King          4.6     2052     22  2011      Fiction  \n",
              "2          Jordan B. Peterson          4.7    18979     15  2018  Non Fiction  \n",
              "3               George Orwell          4.7    21424      6  2017      Fiction  \n",
              "4    National Geographic Kids          4.8     7665     12  2019  Non Fiction  \n",
              "..                        ...          ...      ...    ...   ...          ...  \n",
              "538               Ken Follett          4.5    10760     15  2012      Fiction  \n",
              "539               Geneen Roth          4.2     1302     11  2010  Non Fiction  \n",
              "540             R. J. Palacio          4.8    21625      9  2013      Fiction  \n",
              "545               Jeff Kinney          4.9     9413      8  2019      Fiction  \n",
              "546               Jen Sincero          4.7    14331      8  2016  Non Fiction  \n",
              "\n",
              "[351 rows x 7 columns]"
            ]
          },
          "execution_count": 47,
          "metadata": {},
          "output_type": "execute_result"
        }
      ],
      "source": [
        "df.drop_duplicates(subset =\"Name\",keep = 'first', inplace = True)\n",
        "df"
      ]
    },
    {
      "cell_type": "markdown",
      "metadata": {
        "id": "1j_Lner-3MtT"
      },
      "source": [
        "### Print name of all columns"
      ]
    },
    {
      "cell_type": "code",
      "execution_count": 48,
      "metadata": {
        "id": "gkLSK2DE-31v"
      },
      "outputs": [
        {
          "name": "stdout",
          "output_type": "stream",
          "text": [
            "Name\n",
            "Author\n",
            "User Rating\n",
            "Reviews\n",
            "Price\n",
            "Year\n",
            "Genre\n"
          ]
        }
      ],
      "source": [
        "for col_name in df.columns: \n",
        "    print(col_name)"
      ]
    },
    {
      "cell_type": "markdown",
      "metadata": {
        "id": "PlBp6hDwEjSv"
      },
      "source": [
        "### Find info about movie 'Steve Jobs'(i.e.Print row of name 'Steve Jobs')"
      ]
    },
    {
      "cell_type": "code",
      "execution_count": 49,
      "metadata": {
        "id": "eyWjLx76_M2v"
      },
      "outputs": [
        {
          "name": "stdout",
          "output_type": "stream",
          "text": [
            "           Name           Author  User Rating  Reviews  Price  Year  \\\n",
            "301  Steve Jobs  Walter Isaacson          4.6     7827     20  2011   \n",
            "\n",
            "           Genre  \n",
            "301  Non Fiction  \n"
          ]
        }
      ],
      "source": [
        "print(df[df['Name'].str.contains('Steve Jobs')])"
      ]
    },
    {
      "cell_type": "markdown",
      "metadata": {
        "id": "OIz9rldRZOHw"
      },
      "source": [
        "### Plot Scatterplot of Price vs User Rating"
      ]
    },
    {
      "cell_type": "code",
      "execution_count": 53,
      "metadata": {
        "id": "7DtgV1x0_NWE"
      },
      "outputs": [
        {
          "data": {
            "image/png": "[encoded data removed]",
            "text/plain": [
              "<Figure size 432x288 with 1 Axes>"
            ]
          },
          "metadata": {
            "needs_background": "light"
          },
          "output_type": "display_data"
        }
      ],
      "source": [
        "#df.plot(x='Price', y='User Rating')\n",
        "import matplotlib.pyplot as plt\n",
        "plt.scatter(df['Price'], df['User Rating'])\n",
        "plt.show()"
      ]
    },
    {
      "cell_type": "markdown",
      "metadata": {
        "id": "ZuSZIn3MHtdi"
      },
      "source": [
        "### For each variable, plot the frequency of each unique value (histogram)."
      ]
    },
    {
      "cell_type": "code",
      "execution_count": 55,
      "metadata": {
        "id": "CjLsWhi-_N1-"
      },
      "outputs": [
        {
          "data": {
            "image/png": "[encoded data removed]",
            "text/plain": [
              "<Figure size 432x288 with 4 Axes>"
            ]
          },
          "metadata": {
            "needs_background": "light"
          },
          "output_type": "display_data"
        }
      ],
      "source": [
        "df.hist();"
      ]
    },
    {
      "cell_type": "markdown",
      "metadata": {
        "id": "OPaYjixJXIuV"
      },
      "source": [
        "### Plot Box_Plot of each var"
      ]
    },
    {
      "cell_type": "code",
      "execution_count": 58,
      "metadata": {},
      "outputs": [
        {
          "data": {
            "image/png": "[encoded data removed]",
            "text/plain": [
              "<Figure size 432x288 with 1 Axes>"
            ]
          },
          "metadata": {
            "needs_background": "light"
          },
          "output_type": "display_data"
        }
      ],
      "source": [
        "df.plot.box(title=\"Box_Plot\", grid=True);\n",
        "plt.show(block=True);"
      ]
    }
  ],
  "metadata": {
    "colab": {
      "name": " Week_Two_Assignment",
      "provenance": [],
      "toc_visible": true
    },
    "kernelspec": {
      "display_name": "Python 3.10.4 64-bit",
      "language": "python",
      "name": "python3"
    },
    "language_info": {
      "codemirror_mode": {
        "name": "ipython",
        "version": 3
      },
      "file_extension": ".py",
      "mimetype": "text/x-python",
      "name": "python",
      "nbconvert_exporter": "python",
      "pygments_lexer": "ipython3",
      "version": "3.10.4"
    },
    "vscode": {
      "interpreter": {
        "hash": "cfe5cb1a8f0781d4d98f8f7260443803d13076be806f6292e9e3679af4474013"
      }
    }
  },
  "nbformat": 4,
  "nbformat_minor": 0
}
